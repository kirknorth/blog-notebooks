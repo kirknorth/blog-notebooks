{
 "metadata": {
  "name": "finite_differences"
 },
 "nbformat": 3,
 "nbformat_minor": 0,
 "worksheets": [
  {
   "cells": [
    {
     "cell_type": "markdown",
     "metadata": {},
     "source": [
      "<center>\n",
      "    <h1> Derivative Approximation by Finite Differences </h1>\n",
      "</center>"
     ]
    },
    {
     "cell_type": "code",
     "collapsed": false,
     "input": [
      "import numpy as np"
     ],
     "language": "python",
     "metadata": {},
     "outputs": []
    },
    {
     "cell_type": "markdown",
     "metadata": {},
     "source": [
      "We want to be able to approximate derivatives of multivariate functions $f(x,y,z)$ by finite differences. More precisely, we want to approximate the $d$-th order derivative of $f$ given a small value $h \\gt 0$ and integer order of error $p \\gt 0$. This is typically done by analyzing the Taylor expansion of $f$ around $x$, $y$, and $z$. "
     ]
    },
    {
     "cell_type": "heading",
     "level": 2,
     "metadata": {},
     "source": [
      "Univariate functions"
     ]
    },
    {
     "cell_type": "markdown",
     "metadata": {},
     "source": [
      "Given a small value $h \\gt 0$, the $d$-th order derivative of $f$ satisfies the following equation where the integer order of error $p \\gt 0$ may be selected as desired,\n",
      "\n",
      "\\begin{equation}\n",
      "\\frac{h^d}{d!} f^{(d)} (x) + \\mathcal{O}(h^{d+p}) = \\sum_{i=i_o}^{i_f} C_i f(x+ih).\n",
      "\\end{equation}\n",
      "    \n",
      "Here $i_o$ and $i_f$ are the min and max $i$-th <i>grid points</i> or <i>nodes</i> used in the derivative estimation. The equation becomes an approximate by neglecting the $\\mathcal{O}(h^{d+p})$ term. The vector $\\mathbf{C} = (C_{i_o},C_{{i_o}+1}...,C_{i_f})$ is called the template or stencil for the approximation.\n",
      "\n",
      "Given the function $f(x)$, the general Taylor expansion of $f$ around $x$ is,\n",
      "\n",
      "\\begin{equation}\n",
      "f(x+ih) = \\sum_{n=0}^{\\infty} i^n \\frac{h^n}{n!} f^{(n)} (x).\n",
      "\\end{equation}"
     ]
    },
    {
     "cell_type": "code",
     "collapsed": false,
     "input": [],
     "language": "python",
     "metadata": {},
     "outputs": []
    },
    {
     "cell_type": "heading",
     "level": 2,
     "metadata": {},
     "source": [
      "Bivariate functions"
     ]
    },
    {
     "cell_type": "code",
     "collapsed": false,
     "input": [],
     "language": "python",
     "metadata": {},
     "outputs": []
    }
   ],
   "metadata": {}
  }
 ]
}